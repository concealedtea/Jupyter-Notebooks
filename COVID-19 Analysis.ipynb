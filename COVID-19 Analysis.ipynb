{
 "cells": [
  {
   "cell_type": "markdown",
   "metadata": {},
   "source": [
    "# COVID-19 Dataset Analysis"
   ]
  },
  {
   "cell_type": "markdown",
   "metadata": {},
   "source": [
    "This will be analysis of the COVID-19 dataset from https://github.com/datasets/covid-19.   \n",
    "This dataset includes time series data tracking the number of people affected by COVID-19 worldwide, including:\n",
    "    - Confirmed tested cases of Coronavirus infection\n",
    "    - The number of people who have reportedly died while sick with Coronavirus\n",
    "    - The number of people who have reportedly recovered from it\n"
   ]
  },
  {
   "cell_type": "markdown",
   "metadata": {},
   "source": [
    "Process will be broken down into a few steps:\n",
    "    - Data Collection/Cleaning\n",
    "    - Data Analysis\n",
    "    - Training models\n",
    "    - Measuring model performance"
   ]
  },
  {
   "cell_type": "markdown",
   "metadata": {},
   "source": [
    "## Data Collection / Cleaning"
   ]
  },
  {
   "cell_type": "markdown",
   "metadata": {},
   "source": [
    "Using the Python Pandas Library, we are able to import the data directly from github into a dataframe containing the relevant data."
   ]
  },
  {
   "cell_type": "code",
   "execution_count": 2,
   "metadata": {},
   "outputs": [
    {
     "name": "stdout",
     "output_type": "stream",
     "text": [
      "         Date      Country  Confirmed  Recovered  Deaths\n",
      "0  2020-01-22  Afghanistan          0          0       0\n",
      "1  2020-01-22      Albania          0          0       0\n",
      "2  2020-01-22      Algeria          0          0       0\n",
      "3  2020-01-22      Andorra          0          0       0\n",
      "4  2020-01-22       Angola          0          0       0\n"
     ]
    }
   ],
   "source": [
    "import pandas as pd\n",
    "countries_agg_url = 'https://raw.githubusercontent.com/datasets/covid-19/master/data/countries-aggregated.csv'\n",
    "key_pivot_url = 'https://raw.githubusercontent.com/datasets/covid-19/master/data/key-countries-pivoted.csv'\n",
    "time_worldwide_url = 'https://raw.githubusercontent.com/datasets/covid-19/master/data/time-series-19-covid-combined.csv'\n",
    "worldwide_agg_url = 'https://raw.githubusercontent.com/datasets/covid-19/master/data/worldwide-aggregated.csv'\n",
    "df_countries_agg = pd.read_csv(countries_agg_url, error_bad_lines=False)\n",
    "print(df_countries_agg.head())"
   ]
  },
  {
   "cell_type": "markdown",
   "metadata": {},
   "source": [
    "## Data Analysis"
   ]
  },
  {
   "cell_type": "markdown",
   "metadata": {},
   "source": [
    "First we will look at the global increase rate per day to see any overlying trends to determine if any individual country is standing out in terms of transmission risk (Either higher than usual or lower than usual). This gives a sense of how well a country is performing in the task of containment of the disease.  "
   ]
  },
  {
   "cell_type": "markdown",
   "metadata": {},
   "source": [
    "The increase rate given in the data represents the % increase from the prior day to the current row. "
   ]
  },
  {
   "cell_type": "code",
   "execution_count": 34,
   "metadata": {},
   "outputs": [
    {
     "data": {
      "image/png": "[encoded data removed]",
      "text/plain": [
       "<Figure size 432x288 with 1 Axes>"
      ]
     },
     "metadata": {
      "needs_background": "light"
     },
     "output_type": "display_data"
    }
   ],
   "source": [
    "import matplotlib.pyplot as plt\n",
    "import matplotlib.dates as mdates\n",
    "import datetime as DT\n",
    "\n",
    "df_worldwide_agg = pd.read_csv(worldwide_agg_url, error_bad_lines=False)\n",
    "\n",
    "xticks = ['2020-01-22', '2020-01-29', '2020-02-05', '2020-02-12', '2020-02-19', '2020-02-26', '2020-03-04', '2020-03-11', '2020-03-18', '2020-03-25', '2020-04-01']\n",
    "ticklabels = ['2020-01-22', '2020-01-29', '2020-02-05', '2020-02-12', '2020-02-19', '2020-02-26', '2020-03-04', '2020-03-11', '2020-03-18', '2020-03-25', '2020-04-01']\n",
    "yticks = [0,5,10,15,20,25,30,35,40,45,50,55,60,65,70,75,80,85,90,95,100]\n",
    "\n",
    "plt.plot_date(x = df_worldwide_agg['Date'], y = df_worldwide_agg['Increase rate'])\n",
    "plt.xticks(xticks, ticklabels, rotation = 45)\n",
    "plt.yticks(yticks)\n",
    "\n",
    "plt.title('COVID-19 Growth Rate by %')\n",
    "plt.xlabel('Date')\n",
    "plt.ylabel('Percentage Increase')\n",
    "\n",
    "plt.show()"
   ]
  },
  {
   "cell_type": "code",
   "execution_count": null,
   "metadata": {},
   "outputs": [],
   "source": []
  }
 ],
 "metadata": {
  "kernelspec": {
   "display_name": "Python 3",
   "language": "python",
   "name": "python3"
  },
  "language_info": {
   "codemirror_mode": {
    "name": "ipython",
    "version": 3
   },
   "file_extension": ".py",
   "mimetype": "text/x-python",
   "name": "python",
   "nbconvert_exporter": "python",
   "pygments_lexer": "ipython3",
   "version": "3.7.4"
  }
 },
 "nbformat": 4,
 "nbformat_minor": 2
}
