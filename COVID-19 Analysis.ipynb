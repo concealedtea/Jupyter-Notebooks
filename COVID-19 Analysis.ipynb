{
 "cells": [
  {
   "cell_type": "markdown",
   "metadata": {},
   "source": [
    "# COVID-19 Dataset Analysis"
   ]
  },
  {
   "cell_type": "markdown",
   "metadata": {},
   "source": [
    "This will be analysis of the COVID-19 dataset from https://github.com/datasets/covid-19.   \n",
    "This dataset includes time series data tracking the number of people affected by COVID-19 worldwide, including:\n",
    "    - Confirmed tested cases of Coronavirus infection\n",
    "    - The number of people who have reportedly died while sick with Coronavirus\n",
    "    - The number of people who have reportedly recovered from it\n"
   ]
  },
  {
   "cell_type": "markdown",
   "metadata": {},
   "source": [
    "Process will be broken down into a few steps:\n",
    "    - Data Collection\n",
    "    - Data Cleaning\n",
    "    - Training models\n",
    "    - Measuring model performance"
   ]
  },
  {
   "cell_type": "markdown",
   "metadata": {},
   "source": [
    "## Data collection"
   ]
  },
  {
   "cell_type": "markdown",
   "metadata": {},
   "source": [
    "Using the Python Pandas Library, we are able to import the data directly from github into a dataframe containing the relevant data."
   ]
  },
  {
   "cell_type": "code",
   "execution_count": 2,
   "metadata": {},
   "outputs": [
    {
     "name": "stdout",
     "output_type": "stream",
     "text": [
      "         Date      Country  Confirmed  Recovered  Deaths\n",
      "0  2020-01-22  Afghanistan          0          0       0\n",
      "1  2020-01-22      Albania          0          0       0\n",
      "2  2020-01-22      Algeria          0          0       0\n",
      "3  2020-01-22      Andorra          0          0       0\n",
      "4  2020-01-22       Angola          0          0       0\n"
     ]
    }
   ],
   "source": [
    "import pandas as pd\n",
    "countries_agg_url = 'https://raw.githubusercontent.com/datasets/covid-19/master/data/countries-aggregated.csv'\n",
    "key_pivot_url = 'https://raw.githubusercontent.com/datasets/covid-19/master/data/key-countries-pivoted.csv'\n",
    "time_worldwide_url = 'https://raw.githubusercontent.com/datasets/covid-19/master/data/time-series-19-covid-combined.csv'\n",
    "worldwide_agg_url = 'https://raw.githubusercontent.com/datasets/covid-19/master/data/worldwide-aggregated.csv'\n",
    "df_countries_agg = pd.read_csv(countries_agg_url, error_bad_lines=False)\n",
    "print(df_countries_agg.head())"
   ]
  },
  {
   "cell_type": "code",
   "execution_count": null,
   "metadata": {},
   "outputs": [],
   "source": []
  }
 ],
 "metadata": {
  "kernelspec": {
   "display_name": "Python 3",
   "language": "python",
   "name": "python3"
  },
  "language_info": {
   "codemirror_mode": {
    "name": "ipython",
    "version": 3
   },
   "file_extension": ".py",
   "mimetype": "text/x-python",
   "name": "python",
   "nbconvert_exporter": "python",
   "pygments_lexer": "ipython3",
   "version": "3.7.4"
  }
 },
 "nbformat": 4,
 "nbformat_minor": 2
}
