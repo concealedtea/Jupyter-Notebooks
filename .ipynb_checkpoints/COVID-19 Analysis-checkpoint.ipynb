{
 "cells": [
  {
   "cell_type": "markdown",
   "metadata": {},
   "source": [
    "# COVID-19 Dataset Analysis"
   ]
  },
  {
   "cell_type": "markdown",
   "metadata": {},
   "source": [
    "This will be analysis of the COVID-19 dataset from https://github.com/datasets/covid-19. \n",
    "This dataset includes time series data tracking the number of people affected by COVID-19 worldwide, including:\n",
    "    - Confirmed tested cases of Coronavirus infection\n",
    "    - The number of people who have reportedly died while sick with Coronavirus\n",
    "    - The number of people who have reportedly recovered from it\n"
   ]
  },
  {
   "cell_type": "markdown",
   "metadata": {},
   "source": [
    "Process will be broken down into a few steps:\n",
    "    - Data Collection\n",
    "    - Data Cleaning\n",
    "    - Training models\n",
    "    - Measuring model performance"
   ]
  },
  {
   "cell_type": "markdown",
   "metadata": {},
   "source": [
    "## Data collection"
   ]
  }
 ],
 "metadata": {
  "kernelspec": {
   "display_name": "Python 3",
   "language": "python",
   "name": "python3"
  },
  "language_info": {
   "codemirror_mode": {
    "name": "ipython",
    "version": 3
   },
   "file_extension": ".py",
   "mimetype": "text/x-python",
   "name": "python",
   "nbconvert_exporter": "python",
   "pygments_lexer": "ipython3",
   "version": "3.7.4"
  }
 },
 "nbformat": 4,
 "nbformat_minor": 2
}
