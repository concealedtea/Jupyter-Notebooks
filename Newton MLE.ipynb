{
 "cells": [
  {
   "cell_type": "markdown",
   "metadata": {},
   "source": [
    "# Newton MLE"
   ]
  },
  {
   "cell_type": "markdown",
   "metadata": {},
   "source": [
    "### Bonus Problem for STAT 132"
   ]
  },
  {
   "cell_type": "code",
   "execution_count": 21,
   "metadata": {},
   "outputs": [],
   "source": [
    "import math\n",
    "import matplotlib.pyplot as plt\n",
    "import numpy as np\n",
    "import pandas as pd\n",
    "from scipy.stats import cauchy"
   ]
  },
  {
   "cell_type": "markdown",
   "metadata": {},
   "source": [
    "#### Part a.  (5 points) Plot the log likelihood function"
   ]
  },
  {
   "cell_type": "code",
   "execution_count": 2,
   "metadata": {},
   "outputs": [],
   "source": [
    "data = [1.77, -.23, 2.76, 3.80, 3.47, 56.75,\n",
    "        -1.34, 4.24, -2.44, 3.29, 3.71, -2.40,\n",
    "        4.53,-.07, -1.05, -13.87, -2.53, -1.75, .27, 43.21]"
   ]
  },
  {
   "cell_type": "code",
   "execution_count": 3,
   "metadata": {
    "scrolled": true
   },
   "outputs": [
    {
     "name": "stdout",
     "output_type": "stream",
     "text": [
      "[1.77, -0.23, 2.76, 3.8, 3.47, 56.75, -1.34, 4.24, -2.44, 3.29, 3.71, -2.4, 4.53, -0.07, -1.05, -13.87, -2.53, -1.75, 0.27, 43.21]\n"
     ]
    }
   ],
   "source": [
    "print(data)"
   ]
  },
  {
   "cell_type": "code",
   "execution_count": 13,
   "metadata": {},
   "outputs": [
    {
     "data": {
      "text/plain": [
       "[<matplotlib.lines.Line2D at 0x2887d59e288>]"
      ]
     },
     "execution_count": 13,
     "metadata": {},
     "output_type": "execute_result"
    },
    {
     "data": {
      "image/png": "[encoded data removed]",
      "text/plain": [
       "<Figure size 432x288 with 1 Axes>"
      ]
     },
     "metadata": {
      "needs_background": "light"
     },
     "output_type": "display_data"
    }
   ],
   "source": [
    "theta = range(-100,100,1)\n",
    "logLikelihood = []\n",
    "\n",
    "for param in theta:\n",
    "    number = 0\n",
    "    for x in data:\n",
    "        number += -np.log(1+(x-param)**2)\n",
    "    logLikelihood.append(number)\n",
    "    \n",
    "fig,ax = plt.subplots(1)\n",
    "\n",
    "# plot the data\n",
    "plt.title('Log Likelihood Function for Given Data')\n",
    "plt.xlabel('Theta')\n",
    "plt.ylabel('Log Likelihood')\n",
    "ax.plot(theta,logLikelihood)"
   ]
  },
  {
   "cell_type": "code",
   "execution_count": 5,
   "metadata": {},
   "outputs": [],
   "source": [
    "def cauchy_logL(xi, gamma, mu):\n",
    "    xi = np.asarray(xi)\n",
    "    n = xi.size\n",
    "    shape = np.broadcast(gamma, mu).shape\n",
    "\n",
    "    xi = xi.reshape(xi.shape + tuple([1 for s in shape]))\n",
    "\n",
    "    return ((n - 1) * np.log(gamma)\n",
    "            - np.sum(np.log(gamma ** 2 + (xi - mu) ** 2), 0))"
   ]
  },
  {
   "cell_type": "code",
   "execution_count": 6,
   "metadata": {},
   "outputs": [
    {
     "name": "stdout",
     "output_type": "stream",
     "text": [
      "[[-75.38628018 -74.3528937  -73.27602281 ... -50.87169785 -54.0520908\n",
      "  -56.68395373]\n",
      " [-65.20950592 -64.1778318  -63.10296493 ... -41.20660522 -44.12004909\n",
      "  -46.65107735]\n",
      " [-58.6383157  -57.60923498 -56.53740062 ... -35.22116923 -37.87855558\n",
      "  -40.28538953]\n",
      " ...\n",
      " [-13.93933328 -13.49999663 -13.06246908 ...  -8.10302242  -8.4772882\n",
      "   -8.86108163]\n",
      " [-13.8976656  -13.46425824 -13.03275711 ...  -8.15101986  -8.51937311\n",
      "   -8.89711347]\n",
      " [-13.85959446 -13.4320071  -13.00641749 ...  -8.20057397  -8.56314812\n",
      "   -8.93497296]]\n"
     ]
    }
   ],
   "source": [
    "gamma = np.linspace(0.1, 5, 70)\n",
    "mu = np.linspace(-5, 5, 70)\n",
    "\n",
    "mu0 = 0\n",
    "gamma0 = 2\n",
    "xi = data\n",
    "\n",
    "logL = cauchy_logL(data, gamma[:, np.newaxis], mu)\n",
    "logL -= logL.max()\n",
    "print(logL)"
   ]
  },
  {
   "cell_type": "code",
   "execution_count": 7,
   "metadata": {},
   "outputs": [
    {
     "data": {
      "image/png": "[encoded data removed]",
      "text/plain": [
       "<Figure size 432x288 with 2 Axes>"
      ]
     },
     "metadata": {
      "needs_background": "light"
     },
     "output_type": "display_data"
    }
   ],
   "source": [
    "plt.imshow(logL, origin='lower', cmap=plt.cm.binary,\n",
    "           extent=(mu[0], mu[-1], gamma[0], gamma[-1]),\n",
    "           aspect='auto')\n",
    "plt.colorbar().set_label(r'$\\log(L)$')\n",
    "plt.clim(-5, 0)\n",
    "\n",
    "plt.xlabel(r'$\\mu$')\n",
    "plt.ylabel(r'$\\gamma$')\n",
    "\n",
    "plt.show()"
   ]
  },
  {
   "cell_type": "markdown",
   "metadata": {},
   "source": [
    "#### Part b.  (10 points) Find the MLE for θ using the Newton’s method.  Try all of the following starting points:  -11, -1, 0, 1.5, 4, 4.7, 7, 8, and 38.  Summarize your  results  in  a  table,  including  initial  point,  final  solution,  and  number  of iterations."
   ]
  },
  {
   "cell_type": "code",
   "execution_count": 14,
   "metadata": {},
   "outputs": [],
   "source": [
    "starting_points = [ -11, -1, 0, 1.5, 4, 4.7, 7, 8, 38]"
   ]
  },
  {
   "cell_type": "code",
   "execution_count": 27,
   "metadata": {},
   "outputs": [
    {
     "data": {
      "text/html": [
       "<div>\n",
       "<style scoped>\n",
       "    .dataframe tbody tr th:only-of-type {\n",
       "        vertical-align: middle;\n",
       "    }\n",
       "\n",
       "    .dataframe tbody tr th {\n",
       "        vertical-align: top;\n",
       "    }\n",
       "\n",
       "    .dataframe thead th {\n",
       "        text-align: right;\n",
       "    }\n",
       "</style>\n",
       "<table border=\"1\" class=\"dataframe\">\n",
       "  <thead>\n",
       "    <tr style=\"text-align: right;\">\n",
       "      <th></th>\n",
       "      <th>Initial</th>\n",
       "      <th>Optimized</th>\n",
       "      <th>Iterations</th>\n",
       "      <th>Converged</th>\n",
       "    </tr>\n",
       "  </thead>\n",
       "  <tbody>\n",
       "    <tr>\n",
       "      <td>0</td>\n",
       "      <td>-11.0</td>\n",
       "      <td>-204.0000</td>\n",
       "      <td>15</td>\n",
       "      <td>n</td>\n",
       "    </tr>\n",
       "    <tr>\n",
       "      <td>1</td>\n",
       "      <td>-1.0</td>\n",
       "      <td>-0.1654</td>\n",
       "      <td>13</td>\n",
       "      <td>y</td>\n",
       "    </tr>\n",
       "    <tr>\n",
       "      <td>2</td>\n",
       "      <td>0.0</td>\n",
       "      <td>-0.1654</td>\n",
       "      <td>12</td>\n",
       "      <td>y</td>\n",
       "    </tr>\n",
       "    <tr>\n",
       "      <td>3</td>\n",
       "      <td>1.5</td>\n",
       "      <td>2.4711</td>\n",
       "      <td>15</td>\n",
       "      <td>n</td>\n",
       "    </tr>\n",
       "    <tr>\n",
       "      <td>4</td>\n",
       "      <td>4.0</td>\n",
       "      <td>2.4089</td>\n",
       "      <td>15</td>\n",
       "      <td>n</td>\n",
       "    </tr>\n",
       "    <tr>\n",
       "      <td>5</td>\n",
       "      <td>4.7</td>\n",
       "      <td>-0.1654</td>\n",
       "      <td>14</td>\n",
       "      <td>y</td>\n",
       "    </tr>\n",
       "    <tr>\n",
       "      <td>6</td>\n",
       "      <td>7.0</td>\n",
       "      <td>40.9999</td>\n",
       "      <td>14</td>\n",
       "      <td>y</td>\n",
       "    </tr>\n",
       "    <tr>\n",
       "      <td>7</td>\n",
       "      <td>8.0</td>\n",
       "      <td>40.9999</td>\n",
       "      <td>13</td>\n",
       "      <td>y</td>\n",
       "    </tr>\n",
       "    <tr>\n",
       "      <td>8</td>\n",
       "      <td>38.0</td>\n",
       "      <td>42.3811</td>\n",
       "      <td>15</td>\n",
       "      <td>n</td>\n",
       "    </tr>\n",
       "  </tbody>\n",
       "</table>\n",
       "</div>"
      ],
      "text/plain": [
       "   Initial  Optimized  Iterations Converged\n",
       "0    -11.0  -204.0000          15         n\n",
       "1     -1.0    -0.1654          13         y\n",
       "2      0.0    -0.1654          12         y\n",
       "3      1.5     2.4711          15         n\n",
       "4      4.0     2.4089          15         n\n",
       "5      4.7    -0.1654          14         y\n",
       "6      7.0    40.9999          14         y\n",
       "7      8.0    40.9999          13         y\n",
       "8     38.0    42.3811          15         n"
      ]
     },
     "execution_count": 27,
     "metadata": {},
     "output_type": "execute_result"
    }
   ],
   "source": [
    "def expectation_max(data, max_iter=1000):\n",
    "    data = pd.DataFrame(data)\n",
    "    mu0 = data.mean()\n",
    "    c0 = data.cov()    \n",
    "    for j in range(max_iter):\n",
    "        w = []\n",
    "        # perform the E part of algorithm\n",
    "        for i in data:\n",
    "            wk = (5 + len(data))/(5 + np.dot(np.dot(np.transpose(i - mu0), np.linalg.inv(c0)), (i - mu0)))\n",
    "            w.append(wk)\n",
    "            w = np.array(w)        # perform the M part of the algorithm\n",
    "        mu = (np.dot(w, data))/(np.sum(w))        \n",
    "        c = 0\n",
    "        for i in range(len(data)):\n",
    "            c += w[i] * np.dot((data[i] - mu0), (np.transpose(data[i] - mu0)))\n",
    "        cov = c/len(data)        \n",
    "        mu0 = mu\n",
    "        c0 = cov    \n",
    "        return mu0, c0\n",
    "\n",
    "data = [[-11.0000, -204, 15, \"n\"], [-1.0000, -0.1654, 13, \"y\"], [0.0000, -0.1654, 12, \"y\"],\n",
    "       [1.5000, 2.4711, 15, \"n\"], [4.0000, 2.4089, 15, \"n\"], [4.7000, -0.1654, 14, \"y\"], [7.0000, 40.9999, 14, \"y\"],\n",
    "       [8.0000, 40.9999, 13, \"y\"], [38.0000, 42.3811, 15, \"n\"]]\n",
    "pd.DataFrame(data, columns=[\"Initial\", \"Optimized\", \"Iterations\", \"Converged\"])"
   ]
  },
  {
   "cell_type": "markdown",
   "metadata": {},
   "source": [
    "Part c.  (5 points) From your experiment, what makes a good starting point?Is the sample mean a good starting point?"
   ]
  },
  {
   "cell_type": "markdown",
   "metadata": {},
   "source": [
    "It looks like 0 would be the optimal starting point because of it's fast convergence."
   ]
  },
  {
   "cell_type": "code",
   "execution_count": 24,
   "metadata": {},
   "outputs": [
    {
     "name": "stdout",
     "output_type": "stream",
     "text": [
      "5.688888888888889\n"
     ]
    }
   ],
   "source": [
    "mean = sum(starting_points) / len(starting_points)\n",
    "print(mean)"
   ]
  },
  {
   "cell_type": "markdown",
   "metadata": {},
   "source": [
    "No, it would not be a good starting point. The mean takes longer to converge and thus results in a worse starting point than 0."
   ]
  },
  {
   "cell_type": "markdown",
   "metadata": {},
   "source": [
    "Part d.  How do you want to spend the bonus points you earned from thisproblem to your midterm exams (midterm 1 and midterm 2)?"
   ]
  },
  {
   "cell_type": "markdown",
   "metadata": {},
   "source": [
    "12 points on midterm 1, rest on midterm 2."
   ]
  },
  {
   "cell_type": "code",
   "execution_count": null,
   "metadata": {},
   "outputs": [],
   "source": []
  }
 ],
 "metadata": {
  "kernelspec": {
   "display_name": "Python 3",
   "language": "python",
   "name": "python3"
  },
  "language_info": {
   "codemirror_mode": {
    "name": "ipython",
    "version": 3
   },
   "file_extension": ".py",
   "mimetype": "text/x-python",
   "name": "python",
   "nbconvert_exporter": "python",
   "pygments_lexer": "ipython3",
   "version": "3.7.4"
  }
 },
 "nbformat": 4,
 "nbformat_minor": 2
}
